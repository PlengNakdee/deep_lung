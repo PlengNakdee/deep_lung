{
 "cells": [
  {
   "cell_type": "code",
   "execution_count": 1,
   "metadata": {},
   "outputs": [],
   "source": [
    "import cv2\n",
    "import os\n",
    "import random\n",
    "import matplotlib.pylab as plt\n",
    "from glob import glob\n",
    "import pandas as pd\n",
    "import numpy as np\n",
    "from sklearn.model_selection import train_test_split"
   ]
  },
  {
   "cell_type": "code",
   "execution_count": 2,
   "metadata": {},
   "outputs": [
    {
     "data": {
      "text/plain": [
       "['/Users/plengmac/Desktop/Lung/patch/1.3.6.1.4.1.14519.5.2.1.6279.6001.171667800241622018839592854574.png',\n",
       " '/Users/plengmac/Desktop/Lung/patch/1.3.6.1.4.1.14519.5.2.1.6279.6001.749871569713868632259874663577.png',\n",
       " '/Users/plengmac/Desktop/Lung/patch/1.3.6.1.4.1.14519.5.2.1.6279.6001.178680586845223339579041794709.png',\n",
       " '/Users/plengmac/Desktop/Lung/patch/1.3.6.1.4.1.14519.5.2.1.6279.6001.216526102138308489357443843021.png',\n",
       " '/Users/plengmac/Desktop/Lung/patch/1.3.6.1.4.1.14519.5.2.1.6279.6001.233433352108264931671753343044.png',\n",
       " '/Users/plengmac/Desktop/Lung/patch/1.3.6.1.4.1.14519.5.2.1.6279.6001.295462530340364058116953738925.png',\n",
       " '/Users/plengmac/Desktop/Lung/patch/1.3.6.1.4.1.14519.5.2.1.6279.6001.122914038048856168343065566972.png',\n",
       " '/Users/plengmac/Desktop/Lung/patch/1.3.6.1.4.1.14519.5.2.1.6279.6001.286422846896797433168187085942.png',\n",
       " '/Users/plengmac/Desktop/Lung/patch/1.3.6.1.4.1.14519.5.2.1.6279.6001.979083010707182900091062408058.png',\n",
       " '/Users/plengmac/Desktop/Lung/patch/1.3.6.1.4.1.14519.5.2.1.6279.6001.140527383975300992150799777603.png']"
      ]
     },
     "execution_count": 2,
     "metadata": {},
     "output_type": "execute_result"
    }
   ],
   "source": [
    "images = glob(os.path.join('/Users/plengmac/Desktop/Lung/patch/', '*.png'))\n",
    "images[0:10]"
   ]
  },
  {
   "cell_type": "code",
   "execution_count": 3,
   "metadata": {},
   "outputs": [
    {
     "data": {
      "text/html": [
       "<div>\n",
       "<style scoped>\n",
       "    .dataframe tbody tr th:only-of-type {\n",
       "        vertical-align: middle;\n",
       "    }\n",
       "\n",
       "    .dataframe tbody tr th {\n",
       "        vertical-align: top;\n",
       "    }\n",
       "\n",
       "    .dataframe thead th {\n",
       "        text-align: right;\n",
       "    }\n",
       "</style>\n",
       "<table border=\"1\" class=\"dataframe\">\n",
       "  <thead>\n",
       "    <tr style=\"text-align: right;\">\n",
       "      <th></th>\n",
       "      <th>seriesuid</th>\n",
       "      <th>class</th>\n",
       "    </tr>\n",
       "  </thead>\n",
       "  <tbody>\n",
       "    <tr>\n",
       "      <th>0</th>\n",
       "      <td>1.3.6.1.4.1.14519.5.2.1.6279.6001.100225287222...</td>\n",
       "      <td>1</td>\n",
       "    </tr>\n",
       "    <tr>\n",
       "      <th>1</th>\n",
       "      <td>1.3.6.1.4.1.14519.5.2.1.6279.6001.100398138793...</td>\n",
       "      <td>1</td>\n",
       "    </tr>\n",
       "    <tr>\n",
       "      <th>2</th>\n",
       "      <td>1.3.6.1.4.1.14519.5.2.1.6279.6001.100621383016...</td>\n",
       "      <td>1</td>\n",
       "    </tr>\n",
       "    <tr>\n",
       "      <th>3</th>\n",
       "      <td>1.3.6.1.4.1.14519.5.2.1.6279.6001.100953483028...</td>\n",
       "      <td>1</td>\n",
       "    </tr>\n",
       "    <tr>\n",
       "      <th>4</th>\n",
       "      <td>1.3.6.1.4.1.14519.5.2.1.6279.6001.102681962408...</td>\n",
       "      <td>1</td>\n",
       "    </tr>\n",
       "  </tbody>\n",
       "</table>\n",
       "</div>"
      ],
      "text/plain": [
       "                                           seriesuid  class\n",
       "0  1.3.6.1.4.1.14519.5.2.1.6279.6001.100225287222...      1\n",
       "1  1.3.6.1.4.1.14519.5.2.1.6279.6001.100398138793...      1\n",
       "2  1.3.6.1.4.1.14519.5.2.1.6279.6001.100621383016...      1\n",
       "3  1.3.6.1.4.1.14519.5.2.1.6279.6001.100953483028...      1\n",
       "4  1.3.6.1.4.1.14519.5.2.1.6279.6001.102681962408...      1"
      ]
     },
     "execution_count": 3,
     "metadata": {},
     "output_type": "execute_result"
    }
   ],
   "source": [
    "labels = pd.read_csv('/Users/plengmac/Desktop/Lung/candidates_no_cord.csv')\n",
    "labels.head()"
   ]
  },
  {
   "cell_type": "code",
   "execution_count": 4,
   "metadata": {},
   "outputs": [],
   "source": [
    "def proc_image():\n",
    "    \"\"\"\n",
    "    Returns 2 arrays:\n",
    "    x for images\n",
    "    y for labels\n",
    "    \"\"\"\n",
    "    #malignant = 'malignant'\n",
    "    #benign = 'benign'\n",
    "    \n",
    "    x = [] # images array\n",
    "    y = [] # labels array\n",
    "    \n",
    "    width = 64\n",
    "    height = 64\n",
    "    \n",
    "    for img in images:\n",
    "        base = os.path.basename(img)\n",
    "        base = os.path.splitext(base)[0]\n",
    "        #finding = labels['class'][labels['seriesuid'] == base]\n",
    "        finding = labels['class'][labels['seriesuid'] == base].values[0]\n",
    "        # read image\n",
    "        full_image = cv2.imread(img)\n",
    "        \n",
    "        if finding == 1:\n",
    "            finding = 1\n",
    "            y.append(finding)\n",
    "            x.append(cv2.resize(full_image, (width, height), interpolation=cv2.INTER_CUBIC))\n",
    "            #print(base)\n",
    "        elif finding == 0:\n",
    "            finding = 0\n",
    "            y.append(finding)\n",
    "            x.append(cv2.resize(full_image, (width, height), interpolation=cv2.INTER_CUBIC))\n",
    "            #print(base)\n",
    "        else:\n",
    "            finding = 0\n",
    "            y.append(finding)\n",
    "            x.append(cv2.resize(full_image, (width, height), interpolation=cv2.INTER_CUBIC))\n",
    "        #else:\n",
    "            #continue\n",
    "    return x, y"
   ]
  },
  {
   "cell_type": "code",
   "execution_count": 169,
   "metadata": {},
   "outputs": [],
   "source": [
    "#base = os.path.basename('/Users/plengmac/Desktop/Lung/patch/1.3.6.1.4.1.14519.5.2.1.6279.6001.979083010707182900091062408058.png')\n",
    "#base = os.path.splitext(base)[0] \n",
    "#print(base)"
   ]
  },
  {
   "cell_type": "code",
   "execution_count": 5,
   "metadata": {},
   "outputs": [
    {
     "name": "stdout",
     "output_type": "stream",
     "text": [
      "(660,)\n",
      "(64, 64, 3)\n",
      "<class 'list'>\n",
      "                                              images  labels\n",
      "0  [[[21, 21, 21], [21, 21, 21], [19, 19, 19], [2...       1\n",
      "1  [[[40, 40, 40], [69, 69, 69], [114, 114, 114],...       0\n",
      "2  [[[11, 11, 11], [21, 21, 21], [22, 22, 22], [1...       1\n",
      "3  [[[29, 29, 29], [63, 63, 63], [45, 45, 45], [5...       0\n",
      "4  [[[191, 191, 191], [197, 197, 197], [199, 199,...       1\n",
      "5  [[[14, 14, 14], [17, 17, 17], [15, 15, 15], [1...       1\n",
      "6  [[[23, 23, 23], [20, 20, 20], [17, 17, 17], [1...       1\n",
      "7  [[[29, 29, 29], [18, 18, 18], [14, 14, 14], [1...       1\n",
      "8  [[[9, 9, 9], [9, 9, 9], [10, 10, 10], [11, 11,...       1\n",
      "9  [[[0, 0, 0], [2, 2, 2], [21, 21, 21], [29, 29,...       0\n"
     ]
    }
   ],
   "source": [
    "x, y = proc_image()\n",
    "df = pd.DataFrame()\n",
    "df['images'] = x\n",
    "df['labels'] = y\n",
    "\n",
    "print(df.images.shape)\n",
    "print(df.images[0].shape)\n",
    "print(type(x))\n",
    "print(df.head(10))"
   ]
  },
  {
   "cell_type": "code",
   "execution_count": 6,
   "metadata": {},
   "outputs": [],
   "source": [
    "# save to nparray \n",
    "np.savez(\"x_images\", x)\n",
    "np.savez(\"y_labels\", y)"
   ]
  },
  {
   "cell_type": "code",
   "execution_count": 7,
   "metadata": {},
   "outputs": [],
   "source": [
    "# Load npz file containing image arrays\n",
    "x_npz = np.load(\"x_images.npz\")\n",
    "x = x_npz['arr_0']\n",
    "# Load binary encoded labels\n",
    "y_npz = np.load(\"y_labels.npz\")\n",
    "y = y_npz['arr_0']"
   ]
  },
  {
   "cell_type": "code",
   "execution_count": 8,
   "metadata": {},
   "outputs": [
    {
     "data": {
      "text/plain": [
       "412"
      ]
     },
     "execution_count": 8,
     "metadata": {},
     "output_type": "execute_result"
    }
   ],
   "source": [
    "# count 'cancer' labels\n",
    "np.count_nonzero(y==1)"
   ]
  },
  {
   "cell_type": "code",
   "execution_count": null,
   "metadata": {},
   "outputs": [],
   "source": []
  }
 ],
 "metadata": {
  "kernelspec": {
   "display_name": "Python 3",
   "language": "python",
   "name": "python3"
  },
  "language_info": {
   "codemirror_mode": {
    "name": "ipython",
    "version": 3
   },
   "file_extension": ".py",
   "mimetype": "text/x-python",
   "name": "python",
   "nbconvert_exporter": "python",
   "pygments_lexer": "ipython3",
   "version": "3.6.7"
  }
 },
 "nbformat": 4,
 "nbformat_minor": 2
}
