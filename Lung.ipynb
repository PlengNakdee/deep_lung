{
  "nbformat": 4,
  "nbformat_minor": 0,
  "metadata": {
    "colab": {
      "name": "Lung_Pleng.ipynb",
      "version": "0.3.2",
      "provenance": [],
      "collapsed_sections": []
    },
    "kernelspec": {
      "name": "python3",
      "display_name": "Python 3"
    },
    "accelerator": "GPU"
  },
  "cells": [
    {
      "metadata": {
        "id": "yY0_m4YpsHAk",
        "colab_type": "code",
        "outputId": "2531ae2a-e463-42f4-dd83-031e716a6fdf",
        "colab": {
          "base_uri": "https://localhost:8080/",
          "height": 34
        }
      },
      "cell_type": "code",
      "source": [
        "import numpy as np\n",
        "from keras import losses, optimizers, models\n",
        "from keras.models import Model\n",
        "from keras.layers import Input, Conv2D, MaxPooling2D, BatchNormalization, concatenate, Dense, Flatten, Dropout\n",
        "from keras.callbacks import ModelCheckpoint, EarlyStopping\n",
        "from keras.preprocessing import image\n",
        "from keras.preprocessing.image import ImageDataGenerator\n",
        "from keras import backend as K\n",
        "from sklearn.model_selection import train_test_split\n",
        "import matplotlib.pyplot as plt\n",
        "import h5py\n",
        "import cv2"
      ],
      "execution_count": 0,
      "outputs": [
        {
          "output_type": "stream",
          "text": [
            "Using TensorFlow backend.\n"
          ],
          "name": "stderr"
        }
      ]
    },
    {
      "metadata": {
        "id": "PtkO9mQDsRAr",
        "colab_type": "code",
        "colab": {}
      },
      "cell_type": "code",
      "source": [
        "from google.colab import drive\n",
        "drive.mount('/content/gdrive')"
      ],
      "execution_count": 0,
      "outputs": []
    },
    {
      "metadata": {
        "id": "t59dgAbysRsp",
        "colab_type": "code",
        "outputId": "863fd6ba-74a2-414b-891d-6f04a3c0dd8b",
        "colab": {
          "base_uri": "https://localhost:8080/",
          "height": 34
        }
      },
      "cell_type": "code",
      "source": [
        "!ls \"/content/gdrive/My Drive/Lung/\""
      ],
      "execution_count": 0,
      "outputs": [
        {
          "output_type": "stream",
          "text": [
            "full2.png  patch1.png  patch2.png  x_images.npz  y_labels.npz\n"
          ],
          "name": "stdout"
        }
      ]
    },
    {
      "metadata": {
        "id": "OTGXsMnYsdSe",
        "colab_type": "code",
        "colab": {}
      },
      "cell_type": "code",
      "source": [
        "# Load npz file containing image arrays\n",
        "x_npz = np.load('/content/gdrive/My Drive/Lung/x_images.npz')\n",
        "x = x_npz['arr_0'] # saved array in .npz named arr_o\n",
        "# Load binary encoded labels\n",
        "y_npz = np.load('/content/gdrive/My Drive/Lung/y_labels.npz')\n",
        "y = y_npz['arr_0'] # saved array in .npz named arr_o"
      ],
      "execution_count": 0,
      "outputs": []
    },
    {
      "metadata": {
        "id": "R8XlkMHHaj-n",
        "colab_type": "code",
        "outputId": "5fdd5161-b0a5-4b96-e1ac-436869d402c8",
        "colab": {
          "base_uri": "https://localhost:8080/",
          "height": 34
        }
      },
      "cell_type": "code",
      "source": [
        "x.ndim"
      ],
      "execution_count": 0,
      "outputs": [
        {
          "output_type": "execute_result",
          "data": {
            "text/plain": [
              "4"
            ]
          },
          "metadata": {
            "tags": []
          },
          "execution_count": 5
        }
      ]
    },
    {
      "metadata": {
        "id": "fveo7vVzsdxP",
        "colab_type": "code",
        "outputId": "e08ea3e8-20cb-4ee6-ad82-35b5a4760c2d",
        "colab": {
          "base_uri": "https://localhost:8080/",
          "height": 68
        }
      },
      "cell_type": "code",
      "source": [
        "# split data 80% train, 20% test, default shuffle=True\n",
        "x_train, x_test, y_train, y_test = train_test_split(x, y, test_size=0.2)\n",
        "\n",
        "print('Training data: ', x_train.shape)\n",
        "print('Testing data: ', x_test.shape)\n",
        "x_train.ndim"
      ],
      "execution_count": 0,
      "outputs": [
        {
          "output_type": "stream",
          "text": [
            "Training data:  (528, 64, 64, 3)\n",
            "Testing data:  (132, 64, 64, 3)\n"
          ],
          "name": "stdout"
        },
        {
          "output_type": "execute_result",
          "data": {
            "text/plain": [
              "4"
            ]
          },
          "metadata": {
            "tags": []
          },
          "execution_count": 4
        }
      ]
    },
    {
      "metadata": {
        "id": "uueqblvTe2i_",
        "colab_type": "code",
        "colab": {}
      },
      "cell_type": "code",
      "source": [
        "def build_model():\n",
        "    inputs = Input((64, 64, 3))\n",
        "    conv1_1 = Conv2D(16, 3, activation='relu', padding='same', name='conv1_1')(inputs)\n",
        "    conv1_2 = Conv2D(16, 3, activation='relu', padding='same', name='conv1_2')(conv1_1)\n",
        "    conv1_3 = Conv2D(16, 3, activation='relu', padding='same', name='conv1_3')(conv1_2)\n",
        "    pool1 = MaxPooling2D(pool_size=2, name='pool1')(conv1_3)\n",
        "    batch1 = BatchNormalization(name='batch1')(pool1)\n",
        "    \n",
        "    conv2_1 = Conv2D(32, 3, activation='relu', padding='same', name='conv2_1')(inputs)\n",
        "    conv2_2 = Conv2D(32, 3, activation='relu', padding='same', name='conv2_2')(conv2_1) \n",
        "    conv2_3 = Conv2D(32, 3, activation='relu', padding='same', name='conv2_3')(conv2_2) \n",
        "    pool2 = MaxPooling2D(pool_size=2, name='pool2')(conv2_3)\n",
        "    batch2 = BatchNormalization(name='batch2')(pool2)\n",
        "    \n",
        "    conv3_1 = Conv2D(64, 1, activation='relu', padding='same', name='conv3_1')(inputs)\n",
        "    conv3_2 = Conv2D(64, 3, activation='relu', padding='same', name='conv3_2')(conv3_1)\n",
        "    conv3_3 = Conv2D(64, 3, activation='relu', padding='same', name='conv3_3')(conv3_2)\n",
        "    pool3 = MaxPooling2D(pool_size=2, name='pool3')(conv3_3)\n",
        "    batch3 = BatchNormalization(name='batch3')(pool3)\n",
        "    \n",
        "    conv4_1 = Conv2D(128, 1, activation='relu', padding='same', name='conv4_1')(inputs)\n",
        "    conv4_2 = Conv2D(128, 3, activation='relu', padding='same', name='conv4_2')(conv4_1)\n",
        "    conv4_3 = Conv2D(128, 3, activation='relu', padding='same', name='conv4_3')(conv4_2)\n",
        "    pool4 = MaxPooling2D(pool_size=2, name='pool4')(conv4_3)\n",
        "    batch4 = BatchNormalization(name='batch4')(pool4)\n",
        "    \n",
        "    conv5_1 = Conv2D(8, 1, activation='relu', padding='same', name='conv5_1')(inputs)\n",
        "    conv5_2 = Conv2D(8, 3, activation='relu', padding='same', name='conv5_2')(conv5_1)\n",
        "    conv5_3 = Conv2D(8, 3, activation='relu', padding='same', name='conv5_3')(conv5_2)\n",
        "    pool5 = MaxPooling2D(pool_size=2, name='pool5')(conv5_3)\n",
        "    batch5 = BatchNormalization(name='batch5')(pool5)\n",
        "    \n",
        "    concate1 = concatenate([batch1, batch2, batch3, batch4, batch5], axis=-1, name='concate1')\n",
        "    \n",
        "    flatten = Flatten(name='flatten')(concate1)\n",
        "    drop1 = Dropout(0.25, name='drop1')(flatten)\n",
        "    dense1 = Dense(128, activation='relu', name='dense1')(drop1)\n",
        "    dense2 = Dense(1, activation='sigmoid', name='dense2')(dense1)\n",
        "    \n",
        "    model = Model(inputs=[inputs], outputs=[dense2])\n",
        "    return model"
      ],
      "execution_count": 0,
      "outputs": []
    },
    {
      "metadata": {
        "id": "J8oY60476H4Z",
        "colab_type": "code",
        "outputId": "6ac98397-2b24-41b2-8aba-de9566715f31",
        "colab": {
          "base_uri": "https://localhost:8080/",
          "height": 1275
        }
      },
      "cell_type": "code",
      "source": [
        "model = build_model()\n",
        "model.summary()\n",
        "print('The number of trainable weights: ', len(model.trainable_weights))"
      ],
      "execution_count": 0,
      "outputs": [
        {
          "output_type": "stream",
          "text": [
            "__________________________________________________________________________________________________\n",
            "Layer (type)                    Output Shape         Param #     Connected to                     \n",
            "==================================================================================================\n",
            "input_1 (InputLayer)            (None, 64, 64, 3)    0                                            \n",
            "__________________________________________________________________________________________________\n",
            "conv1_1 (Conv2D)                (None, 64, 64, 16)   448         input_1[0][0]                    \n",
            "__________________________________________________________________________________________________\n",
            "conv2_1 (Conv2D)                (None, 64, 64, 32)   896         input_1[0][0]                    \n",
            "__________________________________________________________________________________________________\n",
            "conv3_1 (Conv2D)                (None, 64, 64, 64)   256         input_1[0][0]                    \n",
            "__________________________________________________________________________________________________\n",
            "conv4_1 (Conv2D)                (None, 64, 64, 128)  512         input_1[0][0]                    \n",
            "__________________________________________________________________________________________________\n",
            "conv5_1 (Conv2D)                (None, 64, 64, 8)    32          input_1[0][0]                    \n",
            "__________________________________________________________________________________________________\n",
            "conv1_2 (Conv2D)                (None, 64, 64, 16)   2320        conv1_1[0][0]                    \n",
            "__________________________________________________________________________________________________\n",
            "conv2_2 (Conv2D)                (None, 64, 64, 32)   9248        conv2_1[0][0]                    \n",
            "__________________________________________________________________________________________________\n",
            "conv3_2 (Conv2D)                (None, 64, 64, 64)   36928       conv3_1[0][0]                    \n",
            "__________________________________________________________________________________________________\n",
            "conv4_2 (Conv2D)                (None, 64, 64, 128)  147584      conv4_1[0][0]                    \n",
            "__________________________________________________________________________________________________\n",
            "conv5_2 (Conv2D)                (None, 64, 64, 8)    584         conv5_1[0][0]                    \n",
            "__________________________________________________________________________________________________\n",
            "conv1_3 (Conv2D)                (None, 64, 64, 16)   2320        conv1_2[0][0]                    \n",
            "__________________________________________________________________________________________________\n",
            "conv2_3 (Conv2D)                (None, 64, 64, 32)   9248        conv2_2[0][0]                    \n",
            "__________________________________________________________________________________________________\n",
            "conv3_3 (Conv2D)                (None, 64, 64, 64)   36928       conv3_2[0][0]                    \n",
            "__________________________________________________________________________________________________\n",
            "conv4_3 (Conv2D)                (None, 64, 64, 128)  147584      conv4_2[0][0]                    \n",
            "__________________________________________________________________________________________________\n",
            "conv5_3 (Conv2D)                (None, 64, 64, 8)    584         conv5_2[0][0]                    \n",
            "__________________________________________________________________________________________________\n",
            "pool1 (MaxPooling2D)            (None, 32, 32, 16)   0           conv1_3[0][0]                    \n",
            "__________________________________________________________________________________________________\n",
            "pool2 (MaxPooling2D)            (None, 32, 32, 32)   0           conv2_3[0][0]                    \n",
            "__________________________________________________________________________________________________\n",
            "pool3 (MaxPooling2D)            (None, 32, 32, 64)   0           conv3_3[0][0]                    \n",
            "__________________________________________________________________________________________________\n",
            "pool4 (MaxPooling2D)            (None, 32, 32, 128)  0           conv4_3[0][0]                    \n",
            "__________________________________________________________________________________________________\n",
            "pool5 (MaxPooling2D)            (None, 32, 32, 8)    0           conv5_3[0][0]                    \n",
            "__________________________________________________________________________________________________\n",
            "batch1 (BatchNormalization)     (None, 32, 32, 16)   64          pool1[0][0]                      \n",
            "__________________________________________________________________________________________________\n",
            "batch2 (BatchNormalization)     (None, 32, 32, 32)   128         pool2[0][0]                      \n",
            "__________________________________________________________________________________________________\n",
            "batch3 (BatchNormalization)     (None, 32, 32, 64)   256         pool3[0][0]                      \n",
            "__________________________________________________________________________________________________\n",
            "batch4 (BatchNormalization)     (None, 32, 32, 128)  512         pool4[0][0]                      \n",
            "__________________________________________________________________________________________________\n",
            "batch5 (BatchNormalization)     (None, 32, 32, 8)    32          pool5[0][0]                      \n",
            "__________________________________________________________________________________________________\n",
            "concate1 (Concatenate)          (None, 32, 32, 248)  0           batch1[0][0]                     \n",
            "                                                                 batch2[0][0]                     \n",
            "                                                                 batch3[0][0]                     \n",
            "                                                                 batch4[0][0]                     \n",
            "                                                                 batch5[0][0]                     \n",
            "__________________________________________________________________________________________________\n",
            "flatten (Flatten)               (None, 253952)       0           concate1[0][0]                   \n",
            "__________________________________________________________________________________________________\n",
            "drop1 (Dropout)                 (None, 253952)       0           flatten[0][0]                    \n",
            "__________________________________________________________________________________________________\n",
            "dense1 (Dense)                  (None, 128)          32505984    drop1[0][0]                      \n",
            "__________________________________________________________________________________________________\n",
            "dense2 (Dense)                  (None, 1)            129         dense1[0][0]                     \n",
            "==================================================================================================\n",
            "Total params: 32,902,577\n",
            "Trainable params: 32,902,081\n",
            "Non-trainable params: 496\n",
            "__________________________________________________________________________________________________\n",
            "The number of trainable weights:  44\n"
          ],
          "name": "stdout"
        }
      ]
    },
    {
      "metadata": {
        "id": "vV-a2ml3sqmN",
        "colab_type": "code",
        "colab": {}
      },
      "cell_type": "code",
      "source": [
        "callbacks_list = [\n",
        "    EarlyStopping(\n",
        "        monitor='acc',\n",
        "        patience=2, # stop training if not improve more than 2 epochs\n",
        "    ),\n",
        "    ModelCheckpoint(\n",
        "        filepath='lung_mynet.h5',\n",
        "        monitor='val_loss', # overwrite file when val_loss improve, save best model\n",
        "        save_best_only=True,\n",
        "    )\n",
        "]\n",
        "\n",
        "model.compile(optimizer=optimizers.Adam(lr=0.0001),\n",
        "             loss=losses.binary_crossentropy,\n",
        "             metrics=['acc'])"
      ],
      "execution_count": 0,
      "outputs": []
    },
    {
      "metadata": {
        "id": "dc6pM3iNPL02",
        "colab_type": "code",
        "colab": {}
      },
      "cell_type": "code",
      "source": [
        "train_datagen = ImageDataGenerator(rescale=1./255)\n",
        "train_generator = train_datagen.flow(x_train, y_train,\n",
        "                                    batch_size=32)"
      ],
      "execution_count": 0,
      "outputs": []
    },
    {
      "metadata": {
        "id": "JsFlcigQs0OL",
        "colab_type": "code",
        "outputId": "8b0c2977-576f-43a8-e6c8-51147ed21258",
        "colab": {
          "base_uri": "https://localhost:8080/",
          "height": 34
        }
      },
      "cell_type": "code",
      "source": [
        "# validation set\n",
        "x_val = x_test[:100]\n",
        "y_val = y_test[:100]\n",
        "x_val.shape"
      ],
      "execution_count": 0,
      "outputs": [
        {
          "output_type": "execute_result",
          "data": {
            "text/plain": [
              "(100, 64, 64, 3)"
            ]
          },
          "metadata": {
            "tags": []
          },
          "execution_count": 9
        }
      ]
    },
    {
      "metadata": {
        "id": "1vHyNw0fs5T6",
        "colab_type": "code",
        "outputId": "0c53e184-688b-425d-bf00-1a5e49ac5e0a",
        "colab": {
          "base_uri": "https://localhost:8080/",
          "height": 1037
        }
      },
      "cell_type": "code",
      "source": [
        "history = model.fit_generator(train_generator,\n",
        "                    epochs=30,\n",
        "                    steps_per_epoch=len(x_train)/32,      \n",
        "                    #callbacks=callbacks_list,\n",
        "                    validation_data=(x_val, y_val))"
      ],
      "execution_count": 0,
      "outputs": [
        {
          "output_type": "stream",
          "text": [
            "Epoch 1/30\n",
            "17/16 [==============================] - 10s 607ms/step - loss: 1.5573 - acc: 0.5386 - val_loss: 6.8570 - val_acc: 0.5700\n",
            "Epoch 2/30\n",
            "17/16 [==============================] - 4s 219ms/step - loss: 0.5793 - acc: 0.7502 - val_loss: 6.9312 - val_acc: 0.5600\n",
            "Epoch 3/30\n",
            "17/16 [==============================] - 4s 219ms/step - loss: 0.3728 - acc: 0.8386 - val_loss: 6.6958 - val_acc: 0.5800\n",
            "Epoch 4/30\n",
            "17/16 [==============================] - 4s 219ms/step - loss: 0.1963 - acc: 0.9357 - val_loss: 6.8570 - val_acc: 0.5700\n",
            "Epoch 5/30\n",
            "17/16 [==============================] - 4s 218ms/step - loss: 0.1185 - acc: 0.9743 - val_loss: 6.6958 - val_acc: 0.5800\n",
            "Epoch 6/30\n",
            "17/16 [==============================] - 4s 219ms/step - loss: 0.0604 - acc: 0.9908 - val_loss: 7.1811 - val_acc: 0.5500\n",
            "Epoch 7/30\n",
            "17/16 [==============================] - 4s 220ms/step - loss: 0.0527 - acc: 0.9853 - val_loss: 6.6958 - val_acc: 0.5800\n",
            "Epoch 8/30\n",
            "17/16 [==============================] - 4s 220ms/step - loss: 0.0275 - acc: 0.9945 - val_loss: 6.8570 - val_acc: 0.5700\n",
            "Epoch 9/30\n",
            "17/16 [==============================] - 4s 221ms/step - loss: 0.0241 - acc: 0.9927 - val_loss: 7.8329 - val_acc: 0.5100\n",
            "Epoch 10/30\n",
            "17/16 [==============================] - 4s 218ms/step - loss: 0.0155 - acc: 0.9982 - val_loss: 7.3440 - val_acc: 0.5400\n",
            "Epoch 11/30\n",
            "17/16 [==============================] - 4s 220ms/step - loss: 0.0118 - acc: 0.9963 - val_loss: 7.5052 - val_acc: 0.5300\n",
            "Epoch 12/30\n",
            "17/16 [==============================] - 4s 219ms/step - loss: 0.0122 - acc: 0.9963 - val_loss: 6.9755 - val_acc: 0.5600\n",
            "Epoch 13/30\n",
            "17/16 [==============================] - 4s 219ms/step - loss: 0.0081 - acc: 0.9963 - val_loss: 6.8587 - val_acc: 0.5700\n",
            "Epoch 14/30\n",
            "17/16 [==============================] - 4s 218ms/step - loss: 0.0049 - acc: 1.0000 - val_loss: 7.0199 - val_acc: 0.5600\n",
            "Epoch 15/30\n",
            "17/16 [==============================] - 4s 218ms/step - loss: 0.0035 - acc: 1.0000 - val_loss: 7.1811 - val_acc: 0.5500\n",
            "Epoch 16/30\n",
            "17/16 [==============================] - 4s 220ms/step - loss: 0.0035 - acc: 1.0000 - val_loss: 7.0217 - val_acc: 0.5600\n",
            "Epoch 17/30\n",
            "17/16 [==============================] - 4s 221ms/step - loss: 0.0028 - acc: 0.9982 - val_loss: 6.8570 - val_acc: 0.5700\n",
            "Epoch 18/30\n",
            "17/16 [==============================] - 4s 218ms/step - loss: 0.0034 - acc: 1.0000 - val_loss: 7.0234 - val_acc: 0.5600\n",
            "Epoch 19/30\n",
            "17/16 [==============================] - 4s 221ms/step - loss: 0.0031 - acc: 0.9982 - val_loss: 7.0182 - val_acc: 0.5600\n",
            "Epoch 20/30\n",
            "17/16 [==============================] - 4s 220ms/step - loss: 0.0054 - acc: 0.9982 - val_loss: 7.0182 - val_acc: 0.5600\n",
            "Epoch 21/30\n",
            "17/16 [==============================] - 4s 221ms/step - loss: 0.0104 - acc: 0.9982 - val_loss: 8.0170 - val_acc: 0.5000\n",
            "Epoch 22/30\n",
            "17/16 [==============================] - 4s 219ms/step - loss: 0.0034 - acc: 1.0000 - val_loss: 7.6682 - val_acc: 0.5200\n",
            "Epoch 23/30\n",
            "17/16 [==============================] - 4s 221ms/step - loss: 0.0024 - acc: 1.0000 - val_loss: 7.5070 - val_acc: 0.5300\n",
            "Epoch 24/30\n",
            "17/16 [==============================] - 4s 220ms/step - loss: 0.0022 - acc: 1.0000 - val_loss: 7.3476 - val_acc: 0.5400\n",
            "Epoch 25/30\n",
            "17/16 [==============================] - 4s 220ms/step - loss: 0.0021 - acc: 1.0000 - val_loss: 7.3139 - val_acc: 0.5400\n",
            "Epoch 26/30\n",
            "17/16 [==============================] - 4s 220ms/step - loss: 9.2451e-04 - acc: 1.0000 - val_loss: 7.2501 - val_acc: 0.5400\n",
            "Epoch 27/30\n",
            "17/16 [==============================] - 4s 221ms/step - loss: 6.4956e-04 - acc: 1.0000 - val_loss: 7.1849 - val_acc: 0.5500\n",
            "Epoch 28/30\n",
            "17/16 [==============================] - 4s 220ms/step - loss: 5.4949e-04 - acc: 1.0000 - val_loss: 7.1744 - val_acc: 0.5500\n",
            "Epoch 29/30\n",
            "17/16 [==============================] - 4s 221ms/step - loss: 4.6199e-04 - acc: 1.0000 - val_loss: 7.0234 - val_acc: 0.5600\n",
            "Epoch 30/30\n",
            "17/16 [==============================] - 4s 222ms/step - loss: 4.2788e-04 - acc: 1.0000 - val_loss: 6.8884 - val_acc: 0.5500\n"
          ],
          "name": "stdout"
        }
      ]
    },
    {
      "metadata": {
        "id": "oYCZenens8T7",
        "colab_type": "code",
        "colab": {}
      },
      "cell_type": "code",
      "source": [
        "model.save('lung_mynet.h5')"
      ],
      "execution_count": 0,
      "outputs": []
    },
    {
      "metadata": {
        "id": "AI2QrWvB2mAE",
        "colab_type": "code",
        "colab": {}
      },
      "cell_type": "code",
      "source": [
        "model = models.load_model('lung_mynet.h5')"
      ],
      "execution_count": 0,
      "outputs": []
    },
    {
      "metadata": {
        "id": "Z0AmKG8DtFQs",
        "colab_type": "code",
        "outputId": "360f268b-6884-4cac-c28c-0daed6c472b0",
        "colab": {
          "base_uri": "https://localhost:8080/",
          "height": 34
        }
      },
      "cell_type": "code",
      "source": [
        "history.history.keys()"
      ],
      "execution_count": 0,
      "outputs": [
        {
          "output_type": "execute_result",
          "data": {
            "text/plain": [
              "dict_keys(['val_loss', 'val_acc', 'loss', 'acc'])"
            ]
          },
          "metadata": {
            "tags": []
          },
          "execution_count": 11
        }
      ]
    },
    {
      "metadata": {
        "id": "gaO69zoptJP5",
        "colab_type": "code",
        "outputId": "cd7f12d7-e865-4a5a-cee2-4905d1332b35",
        "colab": {
          "base_uri": "https://localhost:8080/",
          "height": 376
        }
      },
      "cell_type": "code",
      "source": [
        "loss = history.history['loss']\n",
        "val_loss = history.history['val_loss']\n",
        "epochs = range(1, len(loss) + 1)\n",
        "\n",
        "plt.plot(epochs, loss, 'r', label='Training Loss')\n",
        "plt.plot(epochs, val_loss, 'b', label='Validation Loss')\n",
        "plt.title('Training and Validation Loss')\n",
        "plt.xlabel('Epochs')\n",
        "plt.ylabel('Loss')\n",
        "plt.legend()\n",
        "\n",
        "plt.show()"
      ],
      "execution_count": 0,
      "outputs": [
        {
          "output_type": "display_data",
          "data": {
            "image/png": "[encoded data removed]",
            "text/plain": [
              "<matplotlib.figure.Figure at 0x7ff94ca1f080>"
            ]
          },
          "metadata": {
            "tags": []
          }
        }
      ]
    },
    {
      "metadata": {
        "id": "Er9HbQNgtLfd",
        "colab_type": "code",
        "outputId": "87340685-3566-4fc0-e350-de3fed8d69a4",
        "colab": {
          "base_uri": "https://localhost:8080/",
          "height": 376
        }
      },
      "cell_type": "code",
      "source": [
        "plt.clf() #clear previous plot\n",
        "\n",
        "acc = history.history['acc']\n",
        "val_acc = history.history['val_acc']\n",
        "\n",
        "plt.plot(epochs, acc, 'r', label='Training Accuracy')\n",
        "plt.plot(epochs, val_acc, 'b', label='Validation Accuracy')\n",
        "plt.title('Training and Validation Accuracy')\n",
        "plt.xlabel('Epochs')\n",
        "plt.ylabel('Loss')\n",
        "plt.legend()\n",
        "\n",
        "plt.show()"
      ],
      "execution_count": 0,
      "outputs": [
        {
          "output_type": "display_data",
          "data": {
            "image/png": "[encoded data removed]",
            "text/plain": [
              "<matplotlib.figure.Figure at 0x7ff94d325320>"
            ]
          },
          "metadata": {
            "tags": []
          }
        }
      ]
    },
    {
      "metadata": {
        "id": "pZVRhivWtONC",
        "colab_type": "code",
        "colab": {}
      },
      "cell_type": "code",
      "source": [
        "test_datagen = ImageDataGenerator(rescale=1./255)\n",
        "test_generator = test_datagen.flow(x_test, y_test,\n",
        "                                  batch_size=20)"
      ],
      "execution_count": 0,
      "outputs": []
    },
    {
      "metadata": {
        "id": "v0cNrrdntTp4",
        "colab_type": "code",
        "colab": {}
      },
      "cell_type": "code",
      "source": [
        "model = models.load_model('lung_mynet.h5')\n",
        "#model.summary()"
      ],
      "execution_count": 0,
      "outputs": []
    },
    {
      "metadata": {
        "id": "TbUcJcp2tZBs",
        "colab_type": "code",
        "outputId": "da4c7429-2ef5-482b-b9cc-59d84b699438",
        "colab": {
          "base_uri": "https://localhost:8080/",
          "height": 34
        }
      },
      "cell_type": "code",
      "source": [
        "test_loss, test_acc = model.evaluate_generator(test_generator, steps=50)\n",
        "print('test acc: ', test_acc)"
      ],
      "execution_count": 0,
      "outputs": [
        {
          "output_type": "stream",
          "text": [
            "test acc:  0.5963983054635889\n"
          ],
          "name": "stdout"
        }
      ]
    },
    {
      "metadata": {
        "id": "rOVhMAjWHrWd",
        "colab_type": "code",
        "outputId": "b2dc374f-ce2d-4389-8249-e3cf8ac0efff",
        "colab": {
          "base_uri": "https://localhost:8080/",
          "height": 527
        }
      },
      "cell_type": "code",
      "source": [
        "preds = model.predict(x_test)\n",
        "\n",
        "for i in range(15):\n",
        "    predict_label = preds[i]\n",
        "    print('Predict: ', predict_label[0], 'Actual: ', y_test[i], '\\n')"
      ],
      "execution_count": 0,
      "outputs": [
        {
          "output_type": "stream",
          "text": [
            "Predict:  1.0 Actual:  1 \n",
            "\n",
            "Predict:  0.0 Actual:  0 \n",
            "\n",
            "Predict:  1.0 Actual:  1 \n",
            "\n",
            "Predict:  1.0 Actual:  1 \n",
            "\n",
            "Predict:  1.0 Actual:  1 \n",
            "\n",
            "Predict:  1.0 Actual:  1 \n",
            "\n",
            "Predict:  1.0 Actual:  1 \n",
            "\n",
            "Predict:  1.0 Actual:  0 \n",
            "\n",
            "Predict:  0.0 Actual:  1 \n",
            "\n",
            "Predict:  1.0 Actual:  0 \n",
            "\n",
            "Predict:  1.0 Actual:  1 \n",
            "\n",
            "Predict:  1.0 Actual:  1 \n",
            "\n",
            "Predict:  1.0 Actual:  1 \n",
            "\n",
            "Predict:  1.0 Actual:  1 \n",
            "\n",
            "Predict:  0.0 Actual:  1 \n",
            "\n"
          ],
          "name": "stdout"
        }
      ]
    },
    {
      "metadata": {
        "id": "Ir1Ip2I-BFXs",
        "colab_type": "code",
        "colab": {}
      },
      "cell_type": "code",
      "source": [
        "#img_path = '/content/gdrive/My Drive/Lung/patch1.png'\n",
        "img_path = '/content/gdrive/My Drive/Lung/patch2.png'\n",
        "#img_path = '/content/gdrive/My Drive/Lung/full2.png' \n",
        "\n",
        "img = image.load_img(img_path, target_size=(64, 64))\n",
        "x = image.img_to_array(img)\n",
        "x = np.expand_dims(x, axis=0) # add one more dimension to (1, height, width, channels)"
      ],
      "execution_count": 0,
      "outputs": []
    },
    {
      "metadata": {
        "id": "NYhMCVLhBNCl",
        "colab_type": "code",
        "outputId": "76a6ce79-4124-4ba0-ba77-77c3cfbf169d",
        "colab": {
          "base_uri": "https://localhost:8080/",
          "height": 34
        }
      },
      "cell_type": "code",
      "source": [
        "preds = model.predict(x)\n",
        "print(preds)"
      ],
      "execution_count": 0,
      "outputs": [
        {
          "output_type": "stream",
          "text": [
            "[[1.]]\n"
          ],
          "name": "stdout"
        }
      ]
    },
    {
      "metadata": {
        "id": "8UHloNslCb5_",
        "colab_type": "code",
        "outputId": "a4688662-2786-4abd-cdfc-ba403ed9f40e",
        "colab": {
          "base_uri": "https://localhost:8080/",
          "height": 34
        }
      },
      "cell_type": "code",
      "source": [
        "np.argmax(preds[0]) # Returns the indices of the maximum values along an axis"
      ],
      "execution_count": 0,
      "outputs": [
        {
          "output_type": "execute_result",
          "data": {
            "text/plain": [
              "0"
            ]
          },
          "metadata": {
            "tags": []
          },
          "execution_count": 106
        }
      ]
    },
    {
      "metadata": {
        "id": "tU1SGHVCCdwz",
        "colab_type": "code",
        "colab": {}
      },
      "cell_type": "code",
      "source": [
        "class_output = model.output[:, 0]\n",
        "last_conv_layer = model.get_layer('concate1') #conv5_3, concate1\n",
        "grads = K.gradients(class_output, last_conv_layer.output)[0]\n",
        "pooled_grads = K.mean(grads, axis=(0, 1, 2))\n",
        "iterate = K.function([model.input], [pooled_grads, last_conv_layer.output[0]])\n",
        "pooled_grads_value, conv_layer_output_value = iterate([x])\n",
        "\n",
        "for i in range(64):\n",
        "  conv_layer_output_value[:, :, i] *= pooled_grads_value[i]\n",
        "heatmap = np.mean(conv_layer_output_value, axis=-1)"
      ],
      "execution_count": 0,
      "outputs": []
    },
    {
      "metadata": {
        "id": "j7UUCyGVCuob",
        "colab_type": "code",
        "outputId": "a00b8a72-c00b-48b9-e3e5-d49a05a9aa64",
        "colab": {
          "base_uri": "https://localhost:8080/",
          "height": 355
        }
      },
      "cell_type": "code",
      "source": [
        "heatmap = np.maximum(heatmap, 0)\n",
        "heatmap /= np.max(heatmap)\n",
        "plt.matshow(heatmap)\n",
        "plt.show()"
      ],
      "execution_count": 0,
      "outputs": [
        {
          "output_type": "display_data",
          "data": {
            "image/png": "[encoded data removed]",
            "text/plain": [
              "<matplotlib.figure.Figure at 0x7fe10d988588>"
            ]
          },
          "metadata": {
            "tags": []
          }
        }
      ]
    },
    {
      "metadata": {
        "id": "Q3s00TWVCwPO",
        "colab_type": "code",
        "outputId": "fedd4745-937b-44bf-fa5b-001e27301d70",
        "colab": {
          "base_uri": "https://localhost:8080/",
          "height": 349
        }
      },
      "cell_type": "code",
      "source": [
        "img = cv2.imread(img_path)\n",
        "heatmap = cv2.resize(heatmap, (img.shape[1], img.shape[0]))\n",
        "heatmap = np.uint8(255 * heatmap)\n",
        "heatmap = cv2.applyColorMap(heatmap, cv2.COLORMAP_JET)\n",
        "superimposed_img = heatmap * 0.4 + img\n",
        "plt.imshow(superimposed_img)\n",
        "plt.show()\n",
        "#cv2.imshow('result', superimposed_img) #colab stop when use cv2.imshow"
      ],
      "execution_count": 0,
      "outputs": [
        {
          "output_type": "display_data",
          "data": {
            "image/png": "[encoded data removed]",
            "text/plain": [
              "<matplotlib.figure.Figure at 0x7fe10cee1be0>"
            ]
          },
          "metadata": {
            "tags": []
          }
        }
      ]
    }
  ]
}
